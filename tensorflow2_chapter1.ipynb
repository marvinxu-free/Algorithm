{
  "nbformat": 4,
  "nbformat_minor": 0,
  "metadata": {
    "colab": {
      "name": "tensorflow2_chapter1.ipynb",
      "provenance": [],
      "collapsed_sections": [],
      "toc_visible": true,
      "authorship_tag": "ABX9TyMQVO0xjuI2P4j2pwur1/ta",
      "include_colab_link": true
    },
    "kernelspec": {
      "name": "python3",
      "display_name": "Python 3"
    }
  },
  "cells": [
    {
      "cell_type": "markdown",
      "metadata": {
        "id": "view-in-github",
        "colab_type": "text"
      },
      "source": [
        "<a href=\"https://colab.research.google.com/github/marvinxu-free/Algorithm/blob/master/tensorflow2_chapter1.ipynb\" target=\"_parent\"><img src=\"https://colab.research.google.com/assets/colab-badge.svg\" alt=\"Open In Colab\"/></a>"
      ]
    },
    {
      "cell_type": "markdown",
      "metadata": {
        "id": "wMBpGbXV_vOB",
        "colab_type": "text"
      },
      "source": [
        "# TersorFlow-2.0-Quick-Start-Guide"
      ]
    },
    {
      "cell_type": "markdown",
      "metadata": {
        "id": "di9DYKk5AEj2",
        "colab_type": "text"
      },
      "source": [
        "## 第一章： eager变量&神经网络数学基础"
      ]
    },
    {
      "cell_type": "markdown",
      "metadata": {
        "id": "Dd23XNjc9j8w",
        "colab_type": "text"
      },
      "source": [
        "TensorFlow2教程-Keras概述\n",
        "Keras 是一个用于构建和训练深度学习模型的高阶 API。它可用于快速设计原型、高级研究和生产。\n",
        "\n",
        "Keras的3个优点： 方便用户使用、模块化和可组合、易于扩展"
      ]
    },
    {
      "cell_type": "code",
      "metadata": {
        "id": "EqoWUKWG9Ysj",
        "colab_type": "code",
        "colab": {}
      },
      "source": [
        "import tensorflow as tf\n"
      ],
      "execution_count": 1,
      "outputs": []
    },
    {
      "cell_type": "code",
      "metadata": {
        "id": "jmabKCIS-IP2",
        "colab_type": "code",
        "colab": {
          "base_uri": "https://localhost:8080/",
          "height": 70
        },
        "outputId": "8d6facf8-8d04-41ab-f015-a2030c2e2f36"
      },
      "source": [
        "print(f\"tensorflow version is {tf.__version__}\")\n",
        "print(f\"tensorflow eager execution is {tf.executing_eagerly()}\")\n",
        "print(f\"keras version is {tf.keras.__version__}\")"
      ],
      "execution_count": 2,
      "outputs": [
        {
          "output_type": "stream",
          "text": [
            "tensorflow version is 2.2.0\n",
            "tensorflow eager execution is True\n",
            "keras version is 2.3.0-tf\n"
          ],
          "name": "stdout"
        }
      ]
    },
    {
      "cell_type": "markdown",
      "metadata": {
        "id": "EZTwtHx8-eyu",
        "colab_type": "text"
      },
      "source": [
        "### 检查GPU是否存在"
      ]
    },
    {
      "cell_type": "code",
      "metadata": {
        "id": "CyYOLgEb-dQt",
        "colab_type": "code",
        "colab": {
          "base_uri": "https://localhost:8080/",
          "height": 107
        },
        "outputId": "6808e79c-f718-4357-99a3-be8e1b1e6a2d"
      },
      "source": [
        "var = tf.Variable([3,2])\n",
        "\n",
        "if tf.test.is_gpu_available():\n",
        "  print(\"Running on GPU\")\n",
        "  print(\"GPU #0?\")\n",
        "  print(var.device.endwith(\"GPU:0\"))\n",
        "else:\n",
        "  print(\"Running on CPU\")\n",
        "  "
      ],
      "execution_count": 3,
      "outputs": [
        {
          "output_type": "stream",
          "text": [
            "WARNING:tensorflow:From <ipython-input-3-81f80c532249>:3: is_gpu_available (from tensorflow.python.framework.test_util) is deprecated and will be removed in a future version.\n",
            "Instructions for updating:\n",
            "Use `tf.config.list_physical_devices('GPU')` instead.\n",
            "Running on CPU\n"
          ],
          "name": "stdout"
        }
      ]
    },
    {
      "cell_type": "markdown",
      "metadata": {
        "id": "CuOHJXji_OxL",
        "colab_type": "text"
      },
      "source": [
        "### tensoflow变量"
      ]
    },
    {
      "cell_type": "markdown",
      "metadata": {
        "id": "OcWHHyppAqS0",
        "colab_type": "text"
      },
      "source": [
        "Tensorflow支持所有你希望使用到的数据类型， 比如:`tf.int32, tf.float64, tf.complex64`\n",
        "\n",
        "[所有支持的数据类型在](https://www.tensorflow.org/api_docs/python/tf/dtypes/DType)\n",
        "\n",
        "默认的整数类型是`tf.int32`，默认的实数类型为`tf.float32`。\n"
      ]
    },
    {
      "cell_type": "code",
      "metadata": {
        "id": "8JsOKwlO-JeU",
        "colab_type": "code",
        "colab": {}
      },
      "source": [
        "t0 = 24 # constant variable\n",
        "t1 = tf.Variable(42) # tensor\n",
        "t2 = tf.Variable([[0.,1.,2.],[3.,6.,1.]]) # tensor"
      ],
      "execution_count": 4,
      "outputs": []
    },
    {
      "cell_type": "code",
      "metadata": {
        "id": "pdociQna_Cqh",
        "colab_type": "code",
        "colab": {
          "base_uri": "https://localhost:8080/",
          "height": 105
        },
        "outputId": "a9154c33-e983-429d-e7c2-b146a255184b"
      },
      "source": [
        "t0, t1, t2"
      ],
      "execution_count": 5,
      "outputs": [
        {
          "output_type": "execute_result",
          "data": {
            "text/plain": [
              "(24,\n",
              " <tf.Variable 'Variable:0' shape=() dtype=int32, numpy=42>,\n",
              " <tf.Variable 'Variable:0' shape=(2, 3) dtype=float32, numpy=\n",
              " array([[0., 1., 2.],\n",
              "        [3., 6., 1.]], dtype=float32)>)"
            ]
          },
          "metadata": {
            "tags": []
          },
          "execution_count": 5
        }
      ]
    },
    {
      "cell_type": "code",
      "metadata": {
        "id": "ZMiQmXjr_fKf",
        "colab_type": "code",
        "colab": {
          "base_uri": "https://localhost:8080/",
          "height": 34
        },
        "outputId": "28c593fa-1e1a-408c-afc6-25e4d86e67b7"
      },
      "source": [
        "t1.assign(60)"
      ],
      "execution_count": 6,
      "outputs": [
        {
          "output_type": "execute_result",
          "data": {
            "text/plain": [
              "<tf.Variable 'UnreadVariable' shape=() dtype=int32, numpy=60>"
            ]
          },
          "metadata": {
            "tags": []
          },
          "execution_count": 6
        }
      ]
    },
    {
      "cell_type": "code",
      "metadata": {
        "id": "MmaOX79tAYjd",
        "colab_type": "code",
        "colab": {
          "base_uri": "https://localhost:8080/",
          "height": 34
        },
        "outputId": "698ec7c0-642c-41fb-c433-e19af44cbf1d"
      },
      "source": [
        "t1"
      ],
      "execution_count": 7,
      "outputs": [
        {
          "output_type": "execute_result",
          "data": {
            "text/plain": [
              "<tf.Variable 'Variable:0' shape=() dtype=int32, numpy=60>"
            ]
          },
          "metadata": {
            "tags": []
          },
          "execution_count": 7
        }
      ]
    },
    {
      "cell_type": "code",
      "metadata": {
        "id": "ZZ2sd49fAZK0",
        "colab_type": "code",
        "colab": {
          "base_uri": "https://localhost:8080/",
          "height": 34
        },
        "outputId": "1f9f5f59-f5f8-49a6-d392-40cb78004c4b"
      },
      "source": [
        "t1.dtype"
      ],
      "execution_count": 8,
      "outputs": [
        {
          "output_type": "execute_result",
          "data": {
            "text/plain": [
              "tf.int32"
            ]
          },
          "metadata": {
            "tags": []
          },
          "execution_count": 8
        }
      ]
    },
    {
      "cell_type": "markdown",
      "metadata": {
        "id": "77VylFqSBaRs",
        "colab_type": "text"
      },
      "source": [
        "#### **tensorflow常量**"
      ]
    },
    {
      "cell_type": "code",
      "metadata": {
        "id": "VHmtti6bAdBg",
        "colab_type": "code",
        "colab": {
          "base_uri": "https://localhost:8080/",
          "height": 34
        },
        "outputId": "78873e76-8671-42bb-994e-a77295684292"
      },
      "source": [
        "v_cont = tf.constant(42)\n",
        "v_cont"
      ],
      "execution_count": 9,
      "outputs": [
        {
          "output_type": "execute_result",
          "data": {
            "text/plain": [
              "<tf.Tensor: shape=(), dtype=int32, numpy=42>"
            ]
          },
          "metadata": {
            "tags": []
          },
          "execution_count": 9
        }
      ]
    },
    {
      "cell_type": "code",
      "metadata": {
        "id": "eubttkPgBqjt",
        "colab_type": "code",
        "colab": {
          "base_uri": "https://localhost:8080/",
          "height": 34
        },
        "outputId": "de8fb577-6065-45bb-8c45-80d17db45d16"
      },
      "source": [
        "v_cont.numpy()"
      ],
      "execution_count": 10,
      "outputs": [
        {
          "output_type": "execute_result",
          "data": {
            "text/plain": [
              "42"
            ]
          },
          "metadata": {
            "tags": []
          },
          "execution_count": 10
        }
      ]
    },
    {
      "cell_type": "markdown",
      "metadata": {
        "id": "U0TE40ZtvnDs",
        "colab_type": "text"
      },
      "source": [
        "#### 变量的rank"
      ]
    },
    {
      "cell_type": "code",
      "metadata": {
        "id": "iW3YSjnCB1Yi",
        "colab_type": "code",
        "colab": {
          "base_uri": "https://localhost:8080/",
          "height": 34
        },
        "outputId": "1cc916f1-1fb6-4e4c-efc8-3349fe1d9283"
      },
      "source": [
        "tf.rank(t2)"
      ],
      "execution_count": 12,
      "outputs": [
        {
          "output_type": "execute_result",
          "data": {
            "text/plain": [
              "<tf.Tensor: shape=(), dtype=int32, numpy=2>"
            ]
          },
          "metadata": {
            "tags": []
          },
          "execution_count": 12
        }
      ]
    },
    {
      "cell_type": "code",
      "metadata": {
        "id": "JQuHFWvOB4pG",
        "colab_type": "code",
        "colab": {}
      },
      "source": [
        "t3 = tf.Variable([ [ [0., 1., 2.], [3., 4., 5.] ], [ [6., \n",
        "7., 8.], [9., 10., 11.] ] ]) # tensor variable"
      ],
      "execution_count": 13,
      "outputs": []
    },
    {
      "cell_type": "code",
      "metadata": {
        "id": "0dI1alDDCKqI",
        "colab_type": "code",
        "colab": {
          "base_uri": "https://localhost:8080/",
          "height": 34
        },
        "outputId": "e5d92148-6cc7-45ca-cef9-087aba0814fb"
      },
      "source": [
        "tf.rank(t3)"
      ],
      "execution_count": 14,
      "outputs": [
        {
          "output_type": "execute_result",
          "data": {
            "text/plain": [
              "<tf.Tensor: shape=(), dtype=int32, numpy=3>"
            ]
          },
          "metadata": {
            "tags": []
          },
          "execution_count": 14
        }
      ]
    },
    {
      "cell_type": "markdown",
      "metadata": {
        "id": "SVd56m7rCVV6",
        "colab_type": "text"
      },
      "source": [
        "#### **变量的shape**"
      ]
    },
    {
      "cell_type": "code",
      "metadata": {
        "id": "nSzHVsxcCTJ_",
        "colab_type": "code",
        "colab": {
          "base_uri": "https://localhost:8080/",
          "height": 34
        },
        "outputId": "7a6c1e66-d7ec-46dc-a4f4-b1bae7886e73"
      },
      "source": [
        "tf.shape(t3)"
      ],
      "execution_count": 15,
      "outputs": [
        {
          "output_type": "execute_result",
          "data": {
            "text/plain": [
              "<tf.Tensor: shape=(3,), dtype=int32, numpy=array([2, 2, 3], dtype=int32)>"
            ]
          },
          "metadata": {
            "tags": []
          },
          "execution_count": 15
        }
      ]
    },
    {
      "cell_type": "markdown",
      "metadata": {
        "id": "8JK_hvX1CkzN",
        "colab_type": "text"
      },
      "source": [
        "**tensor经常要做reshape操作，reshepe操作需要保证数据量size不变，这个操作在NN里面很常见**"
      ]
    },
    {
      "cell_type": "code",
      "metadata": {
        "id": "C5ZJyUZtCbmT",
        "colab_type": "code",
        "colab": {}
      },
      "source": [
        "r1 = tf.reshape(t3, [2,6]) # 2 rows 6 cols"
      ],
      "execution_count": 16,
      "outputs": []
    },
    {
      "cell_type": "code",
      "metadata": {
        "id": "KHDQ5b5jC56x",
        "colab_type": "code",
        "colab": {
          "base_uri": "https://localhost:8080/",
          "height": 34
        },
        "outputId": "085d8c9a-2dc1-4b4f-d53d-024f4a5fd143"
      },
      "source": [
        "tf.shape(r1)"
      ],
      "execution_count": 17,
      "outputs": [
        {
          "output_type": "execute_result",
          "data": {
            "text/plain": [
              "<tf.Tensor: shape=(2,), dtype=int32, numpy=array([2, 6], dtype=int32)>"
            ]
          },
          "metadata": {
            "tags": []
          },
          "execution_count": 17
        }
      ]
    },
    {
      "cell_type": "code",
      "metadata": {
        "id": "L8Uf294sC7XZ",
        "colab_type": "code",
        "colab": {
          "base_uri": "https://localhost:8080/",
          "height": 70
        },
        "outputId": "4eaba28b-9479-490e-c962-ddf07fbd3be9"
      },
      "source": [
        "r1"
      ],
      "execution_count": 18,
      "outputs": [
        {
          "output_type": "execute_result",
          "data": {
            "text/plain": [
              "<tf.Tensor: shape=(2, 6), dtype=float32, numpy=\n",
              "array([[ 0.,  1.,  2.,  3.,  4.,  5.],\n",
              "       [ 6.,  7.,  8.,  9., 10., 11.]], dtype=float32)>"
            ]
          },
          "metadata": {
            "tags": []
          },
          "execution_count": 18
        }
      ]
    },
    {
      "cell_type": "code",
      "metadata": {
        "id": "Ma8J-ps-EUnN",
        "colab_type": "code",
        "colab": {
          "base_uri": "https://localhost:8080/",
          "height": 34
        },
        "outputId": "bb8ac790-c3ab-4aab-e91c-7649ca56467b"
      },
      "source": [
        "tf.Tensor.get_shape(r1)"
      ],
      "execution_count": 19,
      "outputs": [
        {
          "output_type": "execute_result",
          "data": {
            "text/plain": [
              "TensorShape([2, 6])"
            ]
          },
          "metadata": {
            "tags": []
          },
          "execution_count": 19
        }
      ]
    },
    {
      "cell_type": "markdown",
      "metadata": {
        "id": "SVjOaRLeGVla",
        "colab_type": "text"
      },
      "source": [
        "#### **tensor数据切片**"
      ]
    },
    {
      "cell_type": "code",
      "metadata": {
        "id": "Vb7H9SpkGgQf",
        "colab_type": "code",
        "colab": {
          "base_uri": "https://localhost:8080/",
          "height": 122
        },
        "outputId": "0d45555e-0a07-4122-bab1-62bf60564d0c"
      },
      "source": [
        "t3"
      ],
      "execution_count": 20,
      "outputs": [
        {
          "output_type": "execute_result",
          "data": {
            "text/plain": [
              "<tf.Variable 'Variable:0' shape=(2, 2, 3) dtype=float32, numpy=\n",
              "array([[[ 0.,  1.,  2.],\n",
              "        [ 3.,  4.,  5.]],\n",
              "\n",
              "       [[ 6.,  7.,  8.],\n",
              "        [ 9., 10., 11.]]], dtype=float32)>"
            ]
          },
          "metadata": {
            "tags": []
          },
          "execution_count": 20
        }
      ]
    },
    {
      "cell_type": "code",
      "metadata": {
        "id": "_orF69W9GC8R",
        "colab_type": "code",
        "colab": {
          "base_uri": "https://localhost:8080/",
          "height": 34
        },
        "outputId": "33daac32-7156-4dd8-d981-a23e96c84984"
      },
      "source": [
        "t3[1,0,2]"
      ],
      "execution_count": 21,
      "outputs": [
        {
          "output_type": "execute_result",
          "data": {
            "text/plain": [
              "<tf.Tensor: shape=(), dtype=float32, numpy=8.0>"
            ]
          },
          "metadata": {
            "tags": []
          },
          "execution_count": 21
        }
      ]
    },
    {
      "cell_type": "markdown",
      "metadata": {
        "id": "df_MeS9kG6JE",
        "colab_type": "text"
      },
      "source": [
        "#### **获取tensor元素的个数**"
      ]
    },
    {
      "cell_type": "code",
      "metadata": {
        "id": "uL_7A-aoGeba",
        "colab_type": "code",
        "colab": {
          "base_uri": "https://localhost:8080/",
          "height": 34
        },
        "outputId": "d5b66202-4e40-4bcb-886a-f778c021ff5f"
      },
      "source": [
        "tf.size(t3)"
      ],
      "execution_count": 22,
      "outputs": [
        {
          "output_type": "execute_result",
          "data": {
            "text/plain": [
              "<tf.Tensor: shape=(), dtype=int32, numpy=12>"
            ]
          },
          "metadata": {
            "tags": []
          },
          "execution_count": 22
        }
      ]
    },
    {
      "cell_type": "markdown",
      "metadata": {
        "id": "LzTDsuV0HCBd",
        "colab_type": "text"
      },
      "source": [
        "**tensor元素转Numpy数值**"
      ]
    },
    {
      "cell_type": "code",
      "metadata": {
        "id": "7VNSOYV-G_6q",
        "colab_type": "code",
        "colab": {
          "base_uri": "https://localhost:8080/",
          "height": 105
        },
        "outputId": "4ddc2fd9-20ab-4296-f065-e98cd0fa6a90"
      },
      "source": [
        "t3.numpy()"
      ],
      "execution_count": 23,
      "outputs": [
        {
          "output_type": "execute_result",
          "data": {
            "text/plain": [
              "array([[[ 0.,  1.,  2.],\n",
              "        [ 3.,  4.,  5.]],\n",
              "\n",
              "       [[ 6.,  7.,  8.],\n",
              "        [ 9., 10., 11.]]], dtype=float32)"
            ]
          },
          "metadata": {
            "tags": []
          },
          "execution_count": 23
        }
      ]
    },
    {
      "cell_type": "markdown",
      "metadata": {
        "id": "35m7r7BUIRUS",
        "colab_type": "text"
      },
      "source": [
        "#### **通过重载运算符，实现按元素自动乘积**"
      ]
    },
    {
      "cell_type": "code",
      "metadata": {
        "id": "QPXFWxyiHJXN",
        "colab_type": "code",
        "colab": {
          "base_uri": "https://localhost:8080/",
          "height": 122
        },
        "outputId": "956c02f9-9c71-488f-bb49-72842392f0de"
      },
      "source": [
        "t3 * t3"
      ],
      "execution_count": 24,
      "outputs": [
        {
          "output_type": "execute_result",
          "data": {
            "text/plain": [
              "<tf.Tensor: shape=(2, 2, 3), dtype=float32, numpy=\n",
              "array([[[  0.,   1.,   4.],\n",
              "        [  9.,  16.,  25.]],\n",
              "\n",
              "       [[ 36.,  49.,  64.],\n",
              "        [ 81., 100., 121.]]], dtype=float32)>"
            ]
          },
          "metadata": {
            "tags": []
          },
          "execution_count": 24
        }
      ]
    },
    {
      "cell_type": "markdown",
      "metadata": {
        "id": "kbnPseOAIceH",
        "colab_type": "text"
      },
      "source": [
        "#### **tensorflow 变量支持广播计算机制**"
      ]
    },
    {
      "cell_type": "code",
      "metadata": {
        "id": "8695qbEhIaPF",
        "colab_type": "code",
        "colab": {
          "base_uri": "https://localhost:8080/",
          "height": 122
        },
        "outputId": "ea48c519-1f9d-40a4-853a-72e46609384c"
      },
      "source": [
        "t3 * 4"
      ],
      "execution_count": 25,
      "outputs": [
        {
          "output_type": "execute_result",
          "data": {
            "text/plain": [
              "<tf.Tensor: shape=(2, 2, 3), dtype=float32, numpy=\n",
              "array([[[ 0.,  4.,  8.],\n",
              "        [12., 16., 20.]],\n",
              "\n",
              "       [[24., 28., 32.],\n",
              "        [36., 40., 44.]]], dtype=float32)>"
            ]
          },
          "metadata": {
            "tags": []
          },
          "execution_count": 25
        }
      ]
    },
    {
      "cell_type": "markdown",
      "metadata": {
        "id": "cjCTIGceIyPt",
        "colab_type": "text"
      },
      "source": [
        "#### \n",
        "**TensorFlow的常量、矩阵转置、矩阵乘法均是eager模式计算**"
      ]
    },
    {
      "cell_type": "code",
      "metadata": {
        "id": "esSoPEhwIize",
        "colab_type": "code",
        "colab": {
          "base_uri": "https://localhost:8080/",
          "height": 34
        },
        "outputId": "5ffaf405-4885-4245-d3ef-61308f802427"
      },
      "source": [
        "u = tf.constant([[1,2,3,4]])\n",
        "v = tf.constant([[2,3,4,0]])\n",
        "tf.matmul(u, tf.transpose(v))"
      ],
      "execution_count": 26,
      "outputs": [
        {
          "output_type": "execute_result",
          "data": {
            "text/plain": [
              "<tf.Tensor: shape=(1, 1), dtype=int32, numpy=array([[20]], dtype=int32)>"
            ]
          },
          "metadata": {
            "tags": []
          },
          "execution_count": 26
        }
      ]
    },
    {
      "cell_type": "markdown",
      "metadata": {
        "id": "5uItcYu8uhf4",
        "colab_type": "text"
      },
      "source": [
        "**数据类型转换**"
      ]
    },
    {
      "cell_type": "code",
      "metadata": {
        "id": "e2nQ0G7iJF2d",
        "colab_type": "code",
        "colab": {}
      },
      "source": [
        "t4 = tf.Variable(3.0)"
      ],
      "execution_count": 27,
      "outputs": []
    },
    {
      "cell_type": "code",
      "metadata": {
        "id": "K3mnttNcuose",
        "colab_type": "code",
        "colab": {
          "base_uri": "https://localhost:8080/",
          "height": 34
        },
        "outputId": "c6e8e7ea-ff9d-482e-95a9-ad06412c9ccc"
      },
      "source": [
        "tf.cast(t4, dtype=tf.int32)"
      ],
      "execution_count": 28,
      "outputs": [
        {
          "output_type": "execute_result",
          "data": {
            "text/plain": [
              "<tf.Tensor: shape=(), dtype=int32, numpy=3>"
            ]
          },
          "metadata": {
            "tags": []
          },
          "execution_count": 28
        }
      ]
    },
    {
      "cell_type": "markdown",
      "metadata": {
        "id": "dY6UCanDu0-i",
        "colab_type": "text"
      },
      "source": [
        "#### **参差不齐的变量**"
      ]
    },
    {
      "cell_type": "code",
      "metadata": {
        "id": "5vfNBAgNuuzJ",
        "colab_type": "code",
        "colab": {}
      },
      "source": [
        "ragged =tf.ragged.constant([[5, 2, 6, 1], [], [4, 10, 7], [8], [6,7]])"
      ],
      "execution_count": 29,
      "outputs": []
    },
    {
      "cell_type": "code",
      "metadata": {
        "id": "V-VUAsRKu8Oe",
        "colab_type": "code",
        "colab": {
          "base_uri": "https://localhost:8080/",
          "height": 87
        },
        "outputId": "63e966c3-47a8-4498-9ea3-379742b11175"
      },
      "source": [
        "print(ragged)\n",
        "print(ragged[0,:].numpy())\n",
        "print(ragged[1,:])\n",
        "print(ragged[2,:])"
      ],
      "execution_count": 34,
      "outputs": [
        {
          "output_type": "stream",
          "text": [
            "<tf.RaggedTensor [[5, 2, 6, 1], [], [4, 10, 7], [8], [6, 7]]>\n",
            "[5 2 6 1]\n",
            "tf.Tensor([], shape=(0,), dtype=int32)\n",
            "tf.Tensor([ 4 10  7], shape=(3,), dtype=int32)\n"
          ],
          "name": "stdout"
        }
      ]
    },
    {
      "cell_type": "markdown",
      "metadata": {
        "id": "g7NVtUg8v9TC",
        "colab_type": "text"
      },
      "source": [
        "### 一些有用的函数"
      ]
    },
    {
      "cell_type": "markdown",
      "metadata": {
        "id": "LW-gWvdKwSXs",
        "colab_type": "text"
      },
      "source": [
        "#### 平方差:tf.math,squared_difference\n",
        "\n",
        "用来计算均方误差"
      ]
    },
    {
      "cell_type": "code",
      "metadata": {
        "id": "LbqBjzB_vEHm",
        "colab_type": "code",
        "colab": {
          "base_uri": "https://localhost:8080/",
          "height": 54
        },
        "outputId": "2397b73d-99e5-4d1d-f51d-f745f637c551"
      },
      "source": [
        "x = [1,2,3,4,5]\n",
        "y = 6\n",
        "s = tf.math.squared_difference(x, y)\n",
        "s"
      ],
      "execution_count": 35,
      "outputs": [
        {
          "output_type": "execute_result",
          "data": {
            "text/plain": [
              "<tf.Tensor: shape=(5,), dtype=int32, numpy=array([25, 16,  9,  4,  1], dtype=int32)>"
            ]
          },
          "metadata": {
            "tags": []
          },
          "execution_count": 35
        }
      ]
    },
    {
      "cell_type": "code",
      "metadata": {
        "id": "26Z0Rbk-ydzB",
        "colab_type": "code",
        "colab": {
          "base_uri": "https://localhost:8080/",
          "height": 54
        },
        "outputId": "a6245397-8e5c-43d9-83f9-db5f4737f39a"
      },
      "source": [
        "a = [1,2,3,4]\n",
        "b = [4,5,6,7]\n",
        "tf.math.squared_difference(a, b)"
      ],
      "execution_count": 42,
      "outputs": [
        {
          "output_type": "execute_result",
          "data": {
            "text/plain": [
              "<tf.Tensor: shape=(4,), dtype=int32, numpy=array([9, 9, 9, 9], dtype=int32)>"
            ]
          },
          "metadata": {
            "tags": []
          },
          "execution_count": 42
        }
      ]
    },
    {
      "cell_type": "markdown",
      "metadata": {
        "id": "15PJ1zAuwXrJ",
        "colab_type": "text"
      },
      "source": [
        "#### tf.reduce_mean(input_tensor, axis=None, keepdims=None,name=None)\n",
        "\n",
        "计算逻辑与np.mean一致，不过返回的数据类型与输入的tensor一致，而np.mean可以指定返回的数据类型"
      ]
    },
    {
      "cell_type": "code",
      "metadata": {
        "id": "5hg7Lkl-wNhe",
        "colab_type": "code",
        "colab": {
          "base_uri": "https://localhost:8080/",
          "height": 122
        },
        "outputId": "d7fb4063-c2ae-4219-d6df-aee774ca6ab6"
      },
      "source": [
        "t3"
      ],
      "execution_count": 36,
      "outputs": [
        {
          "output_type": "execute_result",
          "data": {
            "text/plain": [
              "<tf.Variable 'Variable:0' shape=(2, 2, 3) dtype=float32, numpy=\n",
              "array([[[ 0.,  1.,  2.],\n",
              "        [ 3.,  4.,  5.]],\n",
              "\n",
              "       [[ 6.,  7.,  8.],\n",
              "        [ 9., 10., 11.]]], dtype=float32)>"
            ]
          },
          "metadata": {
            "tags": []
          },
          "execution_count": 36
        }
      ]
    },
    {
      "cell_type": "markdown",
      "metadata": {
        "id": "bMX5otqaxQ3b",
        "colab_type": "text"
      },
      "source": [
        "**在所有axes上求均值，相当于对所有的元素求均值**"
      ]
    },
    {
      "cell_type": "code",
      "metadata": {
        "id": "Wux6iFIIwx1v",
        "colab_type": "code",
        "colab": {
          "base_uri": "https://localhost:8080/",
          "height": 34
        },
        "outputId": "e682a5e6-c6ea-479a-baeb-9345d4e0fc92"
      },
      "source": [
        "tf.reduce_mean(t3)"
      ],
      "execution_count": 37,
      "outputs": [
        {
          "output_type": "execute_result",
          "data": {
            "text/plain": [
              "<tf.Tensor: shape=(), dtype=float32, numpy=5.5>"
            ]
          },
          "metadata": {
            "tags": []
          },
          "execution_count": 37
        }
      ]
    },
    {
      "cell_type": "markdown",
      "metadata": {
        "id": "tOS0fA5Oxdxp",
        "colab_type": "text"
      },
      "source": [
        "**对axis=1求均值，也就是在axis=1的维度上汇总求均值，默认不保留维度，因此计算后的维度为[2,3]**"
      ]
    },
    {
      "cell_type": "code",
      "metadata": {
        "id": "2xc61OQ2w1Cl",
        "colab_type": "code",
        "colab": {
          "base_uri": "https://localhost:8080/",
          "height": 70
        },
        "outputId": "82e214dd-8553-435b-dafa-7ab96d2d5bdc"
      },
      "source": [
        "tf.reduce_mean(t3, axis=1)"
      ],
      "execution_count": 38,
      "outputs": [
        {
          "output_type": "execute_result",
          "data": {
            "text/plain": [
              "<tf.Tensor: shape=(2, 3), dtype=float32, numpy=\n",
              "array([[1.5, 2.5, 3.5],\n",
              "       [7.5, 8.5, 9.5]], dtype=float32)>"
            ]
          },
          "metadata": {
            "tags": []
          },
          "execution_count": 38
        }
      ]
    },
    {
      "cell_type": "markdown",
      "metadata": {
        "id": "xr39vRDMxsyy",
        "colab_type": "text"
      },
      "source": [
        "**对axis=1求均值，也就是在axis=1的维度上汇总求均值，保留维度，因此计算后的维度为[2,1,3]**"
      ]
    },
    {
      "cell_type": "code",
      "metadata": {
        "id": "LsujqqSPw7Ue",
        "colab_type": "code",
        "colab": {
          "base_uri": "https://localhost:8080/",
          "height": 87
        },
        "outputId": "c038a020-a1e9-44f4-b903-755fa9f0613a"
      },
      "source": [
        "tf.reduce_mean(t3, axis=1, keepdims=True)"
      ],
      "execution_count": 39,
      "outputs": [
        {
          "output_type": "execute_result",
          "data": {
            "text/plain": [
              "<tf.Tensor: shape=(2, 1, 3), dtype=float32, numpy=\n",
              "array([[[1.5, 2.5, 3.5]],\n",
              "\n",
              "       [[7.5, 8.5, 9.5]]], dtype=float32)>"
            ]
          },
          "metadata": {
            "tags": []
          },
          "execution_count": 39
        }
      ]
    },
    {
      "cell_type": "markdown",
      "metadata": {
        "id": "hhPE5teGx2sC",
        "colab_type": "text"
      },
      "source": [
        "**其它的维度同理，比如对aixs=0汇总求均值，保留或者不保留axis**\n",
        "\n",
        "可以理解为对列求均值"
      ]
    },
    {
      "cell_type": "code",
      "metadata": {
        "id": "7kye1Y33xNnF",
        "colab_type": "code",
        "colab": {
          "base_uri": "https://localhost:8080/",
          "height": 70
        },
        "outputId": "3743004f-2d18-4524-95d2-f1d5f6226c1f"
      },
      "source": [
        "tf.reduce_mean(t3, axis=0)"
      ],
      "execution_count": 40,
      "outputs": [
        {
          "output_type": "execute_result",
          "data": {
            "text/plain": [
              "<tf.Tensor: shape=(2, 3), dtype=float32, numpy=\n",
              "array([[3., 4., 5.],\n",
              "       [6., 7., 8.]], dtype=float32)>"
            ]
          },
          "metadata": {
            "tags": []
          },
          "execution_count": 40
        }
      ]
    },
    {
      "cell_type": "code",
      "metadata": {
        "id": "gJWbdd73yDdj",
        "colab_type": "code",
        "colab": {
          "base_uri": "https://localhost:8080/",
          "height": 70
        },
        "outputId": "096f4398-4a87-4310-b73f-30db3e51db83"
      },
      "source": [
        "tf.reduce_mean(t3, axis=0, keepdims=True)"
      ],
      "execution_count": 41,
      "outputs": [
        {
          "output_type": "execute_result",
          "data": {
            "text/plain": [
              "<tf.Tensor: shape=(1, 2, 3), dtype=float32, numpy=\n",
              "array([[[3., 4., 5.],\n",
              "        [6., 7., 8.]]], dtype=float32)>"
            ]
          },
          "metadata": {
            "tags": []
          },
          "execution_count": 41
        }
      ]
    },
    {
      "cell_type": "markdown",
      "metadata": {
        "id": "IxaL0b3LywE6",
        "colab_type": "text"
      },
      "source": [
        "#### 随机方法"
      ]
    },
    {
      "cell_type": "markdown",
      "metadata": {
        "id": "opQ7RX94y0DC",
        "colab_type": "text"
      },
      "source": [
        "##### **正太分布随机**"
      ]
    },
    {
      "cell_type": "code",
      "metadata": {
        "id": "jVntxa2JyPtx",
        "colab_type": "code",
        "colab": {
          "base_uri": "https://localhost:8080/",
          "height": 122
        },
        "outputId": "aac6a461-3fae-432c-b324-846468bc24d4"
      },
      "source": [
        "tf.random.normal(shape=(2,2,1), mean=0,\n",
        "                 stddev=0.1, dtype=tf.float32,\n",
        "                 seed = 1024, name='tf_normal_distribution'\n",
        "                 )"
      ],
      "execution_count": 43,
      "outputs": [
        {
          "output_type": "execute_result",
          "data": {
            "text/plain": [
              "<tf.Tensor: shape=(2, 2, 1), dtype=float32, numpy=\n",
              "array([[[-0.08391493],\n",
              "        [ 0.00524457]],\n",
              "\n",
              "       [[ 0.00148488],\n",
              "        [ 0.10044087]]], dtype=float32)>"
            ]
          },
          "metadata": {
            "tags": []
          },
          "execution_count": 43
        }
      ]
    },
    {
      "cell_type": "markdown",
      "metadata": {
        "id": "l_FQ1z16zUUu",
        "colab_type": "text"
      },
      "source": [
        "##### **均匀分布**"
      ]
    },
    {
      "cell_type": "code",
      "metadata": {
        "id": "1hViMNjIzKCc",
        "colab_type": "code",
        "colab": {
          "base_uri": "https://localhost:8080/",
          "height": 122
        },
        "outputId": "375ae656-12fc-4134-a540-5272023eb14b"
      },
      "source": [
        "tf.random.uniform(shape=(2,2,1), maxval=10, minval=1, dtype=tf.float16)"
      ],
      "execution_count": 45,
      "outputs": [
        {
          "output_type": "execute_result",
          "data": {
            "text/plain": [
              "<tf.Tensor: shape=(2, 2, 1), dtype=float16, numpy=\n",
              "array([[[7.3  ],\n",
              "        [8.734]],\n",
              "\n",
              "       [[4.367],\n",
              "        [6.61 ]]], dtype=float16)>"
            ]
          },
          "metadata": {
            "tags": []
          },
          "execution_count": 45
        }
      ]
    },
    {
      "cell_type": "markdown",
      "metadata": {
        "id": "gAhK9eXg0J_e",
        "colab_type": "text"
      },
      "source": [
        "##### 两次运行复现随机结果\n",
        "保证两次运行的时候随机的结果一致。下面的代码不能保证rand1和rand2一致，因为两个在一次运行之间"
      ]
    },
    {
      "cell_type": "code",
      "metadata": {
        "id": "K5BGE0wTzefl",
        "colab_type": "code",
        "colab": {
          "base_uri": "https://localhost:8080/",
          "height": 122
        },
        "outputId": "84860e8a-71f0-4290-d8d6-08ed729b80e2"
      },
      "source": [
        "tf.random.set_seed(11)\n",
        "rand1 = tf.random.uniform(shape=(2,2), minval=1, maxval=100,\n",
        "                          dtype=tf.int32)\n",
        "rand2 = tf.random.uniform(shape=(2,2), minval=1, maxval=100,\n",
        "                          dtype=tf.int32)\n",
        "print(rand1)\n",
        "print(rand2)"
      ],
      "execution_count": 52,
      "outputs": [
        {
          "output_type": "stream",
          "text": [
            "tf.Tensor(\n",
            "[[ 2 49]\n",
            " [ 5 60]], shape=(2, 2), dtype=int32)\n",
            "tf.Tensor(\n",
            "[[79 58]\n",
            " [62  2]], shape=(2, 2), dtype=int32)\n"
          ],
          "name": "stdout"
        }
      ]
    },
    {
      "cell_type": "code",
      "metadata": {
        "id": "826lVD2f0bI4",
        "colab_type": "code",
        "colab": {
          "base_uri": "https://localhost:8080/",
          "height": 122
        },
        "outputId": "9b3d5849-845a-4f92-e81f-41f056f8f1b5"
      },
      "source": [
        "tf.random.set_seed(11)\n",
        "rand1 = tf.random.uniform(shape=(2,2), minval=1, maxval=100,\n",
        "                          dtype=tf.int32)\n",
        "rand2 = tf.random.uniform(shape=(2,2), minval=1, maxval=100,\n",
        "                          dtype=tf.int32)\n",
        "print(rand1)\n",
        "print(rand2)"
      ],
      "execution_count": 53,
      "outputs": [
        {
          "output_type": "stream",
          "text": [
            "tf.Tensor(\n",
            "[[ 2 49]\n",
            " [ 5 60]], shape=(2, 2), dtype=int32)\n",
            "tf.Tensor(\n",
            "[[79 58]\n",
            " [62  2]], shape=(2, 2), dtype=int32)\n"
          ],
          "name": "stdout"
        }
      ]
    },
    {
      "cell_type": "markdown",
      "metadata": {
        "id": "2XfefRKm1A2S",
        "colab_type": "text"
      },
      "source": [
        "##### 模拟骰子随机结果\n",
        "\n",
        "要求：两个骰子，每个扔十次，模拟十次扔骰子的结果，并将结果保存到10 x3 的矩阵内部"
      ]
    },
    {
      "cell_type": "code",
      "metadata": {
        "id": "I5BPyGa00eIO",
        "colab_type": "code",
        "colab": {
          "base_uri": "https://localhost:8080/",
          "height": 404
        },
        "outputId": "b1f18d7c-69b2-4ee8-9331-1f206b49608a"
      },
      "source": [
        "dice1 = tf.Variable(tf.random.uniform((10,1), minval=1, \n",
        "                                      maxval=7, dtype=tf.int32))\n",
        "dice2 = tf.Variable(tf.random.uniform((10,1), minval=1, \n",
        "                                      maxval=7, dtype=tf.int32))\n",
        "\n",
        "dice_sum = dice1 + dice2 # element-wise\n",
        "print(dice_sum)\n",
        "\n",
        "result = tf.concat([dice1, dice2, dice_sum], axis=1)\n",
        "print(result)"
      ],
      "execution_count": 54,
      "outputs": [
        {
          "output_type": "stream",
          "text": [
            "tf.Tensor(\n",
            "[[10]\n",
            " [ 7]\n",
            " [ 8]\n",
            " [ 6]\n",
            " [ 5]\n",
            " [ 5]\n",
            " [ 6]\n",
            " [10]\n",
            " [ 6]\n",
            " [ 5]], shape=(10, 1), dtype=int32)\n",
            "tf.Tensor(\n",
            "[[ 5  5 10]\n",
            " [ 4  3  7]\n",
            " [ 5  3  8]\n",
            " [ 3  3  6]\n",
            " [ 1  4  5]\n",
            " [ 4  1  5]\n",
            " [ 5  1  6]\n",
            " [ 6  4 10]\n",
            " [ 3  3  6]\n",
            " [ 2  3  5]], shape=(10, 3), dtype=int32)\n"
          ],
          "name": "stdout"
        }
      ]
    },
    {
      "cell_type": "markdown",
      "metadata": {
        "id": "XTYtup3s2ayC",
        "colab_type": "text"
      },
      "source": [
        "#### 输出对应axis的最大值对应的index"
      ]
    },
    {
      "cell_type": "code",
      "metadata": {
        "id": "lTjIJZIs2RNc",
        "colab_type": "code",
        "colab": {
          "base_uri": "https://localhost:8080/",
          "height": 52
        },
        "outputId": "7bc21708-6cd6-4c23-8e7e-3ed0fcd57929"
      },
      "source": [
        "print(tf.argmax(result))\n",
        "print(tf.argmax(result, axis=1))"
      ],
      "execution_count": 56,
      "outputs": [
        {
          "output_type": "stream",
          "text": [
            "tf.Tensor([7 0 0], shape=(3,), dtype=int64)\n",
            "tf.Tensor([2 2 2 2 2 2 2 2 2 2], shape=(10,), dtype=int64)\n"
          ],
          "name": "stdout"
        }
      ]
    },
    {
      "cell_type": "markdown",
      "metadata": {
        "id": "sjEWvPU-44vw",
        "colab_type": "text"
      },
      "source": [
        "#### 洛伦兹（Lorenz）系统"
      ]
    },
    {
      "cell_type": "code",
      "metadata": {
        "id": "ce4WNalv31QE",
        "colab_type": "code",
        "colab": {}
      },
      "source": [
        "import numpy as np\n",
        "import matplotlib.pyplot as plt\n",
        "%matplotlib inline\n"
      ],
      "execution_count": 57,
      "outputs": []
    },
    {
      "cell_type": "code",
      "metadata": {
        "id": "X0O3tiif5CaJ",
        "colab_type": "code",
        "colab": {}
      },
      "source": [
        "# rho = 28.0\n",
        "# sigma = 10.0\n",
        "# beta = 8.0/3.0\n",
        "\n",
        "# def lorenz_equation(state, t):\n",
        "#   x, y, z = tf.unstack(state) # pop parameters off the  stack\n",
        "#   dx = sigma * (y - x)\n",
        "#   dy = x * (rho - z) - y\n",
        "#   dz = x * y - beta * z\n",
        "#   return tf.stack([dx, dy, dz]) # push parameters onto a stack\n",
        "\n",
        "# init_state = tf.constant([0, 2, 20], dtype=tf.float64)\n",
        "# time_intervals = np.linspace(0, 50, num=5000)\n",
        "# tensor_state = tf.math.special.odeint(lorenz_equation, init_state, time_intervals, full_output=False)\n",
        "# x, y, z = tf.transpose(a=tensor_state)\n",
        "\n",
        "# plt.plot(x, z)"
      ],
      "execution_count": 59,
      "outputs": []
    },
    {
      "cell_type": "markdown",
      "metadata": {
        "id": "vk2LN9Lp6ScO",
        "colab_type": "text"
      },
      "source": [
        "#### 保存和恢复变量"
      ]
    },
    {
      "cell_type": "code",
      "metadata": {
        "id": "z17H1dDS5FMN",
        "colab_type": "code",
        "colab": {}
      },
      "source": [
        "num1 = tf.Variable(tf.random.uniform([10,10], minval=1, maxval=100, dtype=tf.int32))"
      ],
      "execution_count": 65,
      "outputs": []
    },
    {
      "cell_type": "code",
      "metadata": {
        "id": "3BxyxSYX6iRl",
        "colab_type": "code",
        "colab": {
          "base_uri": "https://localhost:8080/",
          "height": 210
        },
        "outputId": "3fe45849-fa57-4a6e-f09a-4e458cf22315"
      },
      "source": [
        "check_point = tf.train.Checkpoint(var=num1)\n",
        "save_path = check_point.save(\"./vars\")\n",
        "num1.assign(tf.zeros([10,10], dtype=tf.int32))\n",
        "num1"
      ],
      "execution_count": 67,
      "outputs": [
        {
          "output_type": "execute_result",
          "data": {
            "text/plain": [
              "<tf.Variable 'Variable:0' shape=(10, 10) dtype=int32, numpy=\n",
              "array([[0, 0, 0, 0, 0, 0, 0, 0, 0, 0],\n",
              "       [0, 0, 0, 0, 0, 0, 0, 0, 0, 0],\n",
              "       [0, 0, 0, 0, 0, 0, 0, 0, 0, 0],\n",
              "       [0, 0, 0, 0, 0, 0, 0, 0, 0, 0],\n",
              "       [0, 0, 0, 0, 0, 0, 0, 0, 0, 0],\n",
              "       [0, 0, 0, 0, 0, 0, 0, 0, 0, 0],\n",
              "       [0, 0, 0, 0, 0, 0, 0, 0, 0, 0],\n",
              "       [0, 0, 0, 0, 0, 0, 0, 0, 0, 0],\n",
              "       [0, 0, 0, 0, 0, 0, 0, 0, 0, 0],\n",
              "       [0, 0, 0, 0, 0, 0, 0, 0, 0, 0]], dtype=int32)>"
            ]
          },
          "metadata": {
            "tags": []
          },
          "execution_count": 67
        }
      ]
    },
    {
      "cell_type": "code",
      "metadata": {
        "id": "OZYSbz0C7FNC",
        "colab_type": "code",
        "colab": {
          "base_uri": "https://localhost:8080/",
          "height": 210
        },
        "outputId": "f1b3734d-b164-4fca-dcd0-0a58f37aa992"
      },
      "source": [
        "check_point.restore(save_path)\n",
        "num1"
      ],
      "execution_count": 69,
      "outputs": [
        {
          "output_type": "execute_result",
          "data": {
            "text/plain": [
              "<tf.Variable 'Variable:0' shape=(10, 10) dtype=int32, numpy=\n",
              "array([[ 6, 37, 52, 35, 51, 54, 90, 67, 48, 22],\n",
              "       [54, 98, 32, 85, 72, 80, 10, 85,  3, 26],\n",
              "       [57, 68, 29,  7, 17, 59, 39, 97,  4, 42],\n",
              "       [81,  7, 26, 72, 68, 85, 68, 97, 16, 70],\n",
              "       [91, 56, 68, 86, 18, 90, 64, 82, 43, 28],\n",
              "       [45, 93,  3, 71, 92,  7, 62, 39, 79, 72],\n",
              "       [66, 51, 50, 25, 65, 18, 72, 65, 27, 78],\n",
              "       [14, 77,  7, 33,  9, 64, 32, 31, 84, 75],\n",
              "       [25, 17, 64, 13, 41, 27,  1, 47, 63, 88],\n",
              "       [51, 50, 49, 27, 47,  8, 86, 67, 22, 61]], dtype=int32)>"
            ]
          },
          "metadata": {
            "tags": []
          },
          "execution_count": 69
        }
      ]
    },
    {
      "cell_type": "markdown",
      "metadata": {
        "id": "pFNUhCFY71p8",
        "colab_type": "text"
      },
      "source": [
        "#### 从Python函数中生成一个TensorFlow计算图"
      ]
    },
    {
      "cell_type": "code",
      "metadata": {
        "id": "osi7DP997vHQ",
        "colab_type": "code",
        "colab": {
          "base_uri": "https://localhost:8080/",
          "height": 52
        },
        "outputId": "ecacb1d5-aee1-4e47-c829-27885f4a26c8"
      },
      "source": [
        "def f1(x,y):\n",
        "  return tf.reduce_mean(tf.multiply(x ** 2, 5) + y ** 2)\n",
        "\n",
        "f2 = tf.function(f1)\n",
        "\n",
        "x = tf.constant([1,2,3,4])\n",
        "y = tf.constant([1,2,3,4])\n",
        "\n",
        "print(f1(x,y).numpy())\n",
        "print(f2(x,y).numpy())"
      ],
      "execution_count": 72,
      "outputs": [
        {
          "output_type": "stream",
          "text": [
            "45\n",
            "45\n"
          ],
          "name": "stdout"
        }
      ]
    },
    {
      "cell_type": "code",
      "metadata": {
        "id": "LCzrwwQv8eVR",
        "colab_type": "code",
        "colab": {}
      },
      "source": [
        ""
      ],
      "execution_count": null,
      "outputs": []
    }
  ]
}